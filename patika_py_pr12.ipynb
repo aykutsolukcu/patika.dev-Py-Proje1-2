# Patike Dev Phyton Proje -1 
l = [[1,'a',['cat'],2],[[[3]],'dog'],4,5]
l1 = []
def flatten(n):
    for i in n:
        if isinstance(i, list):
            flatten(i)
        else:
            l1.append(i)
flatten(l)
print(l1)



# Patika Dev Phyton Proje - 2

k = [[1, 2], [3, 4], [5, 6, 7]]
k.reverse() # Reverse the list as [[2, 1], [4, 3], [7, 6, 5]]
for i in range(len(k)):
  k[i] = k[i][::-1]
print(k) #output : [[7, 6, 5], [4, 3], [2, 1]]
